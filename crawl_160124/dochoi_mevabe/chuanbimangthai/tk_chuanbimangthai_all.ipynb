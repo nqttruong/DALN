{
 "cells": [
  {
   "cell_type": "code",
   "execution_count": 1,
   "id": "81424b8d",
   "metadata": {},
   "outputs": [],
   "source": [
    "import pandas as pd\n",
    "import os \n",
    "import numpy as np"
   ]
  },
  {
   "cell_type": "code",
   "execution_count": 2,
   "id": "de657aca",
   "metadata": {},
   "outputs": [
    {
     "data": {
      "text/plain": [
       "['.ipynb_checkpoints',\n",
       " 'tk_chuanbimangthai.csv',\n",
       " 'tk_chuanbimangthai_all.ipynb',\n",
       " 'tk_mvb_chuanbimangthai.ipynb']"
      ]
     },
     "execution_count": 2,
     "metadata": {},
     "output_type": "execute_result"
    }
   ],
   "source": [
    "path = r\"D:\\CNTT\\py_for_da\\crawl_data_analyst\\tiki\\crawl_160124(12hdem)\\dochoi_mevabe\\chuanbimangthai\"\n",
    "os.listdir(path)\n"
   ]
  },
  {
   "cell_type": "code",
   "execution_count": 3,
   "id": "fd3d4727",
   "metadata": {},
   "outputs": [],
   "source": [
    "frames = []\n",
    "for file in os.listdir(path):\n",
    "    if file.endswith('.csv'):\n",
    "        filepath = path + '\\\\' + file\n",
    "        df1 = pd.read_csv(filepath)\n",
    "        frames.append(df1)\n",
    "        result = pd.concat(frames)\n",
    "\n",
    "df_all = result\n",
    "df_all.to_csv(\"tk_chuanbimangthai_all.csv\", index=\"False\")"
   ]
  },
  {
   "cell_type": "code",
   "execution_count": 4,
   "id": "a83c1f4b",
   "metadata": {},
   "outputs": [
    {
     "data": {
      "text/html": [
       "<div>\n",
       "<style scoped>\n",
       "    .dataframe tbody tr th:only-of-type {\n",
       "        vertical-align: middle;\n",
       "    }\n",
       "\n",
       "    .dataframe tbody tr th {\n",
       "        vertical-align: top;\n",
       "    }\n",
       "\n",
       "    .dataframe thead th {\n",
       "        text-align: right;\n",
       "    }\n",
       "</style>\n",
       "<table border=\"1\" class=\"dataframe\">\n",
       "  <thead>\n",
       "    <tr style=\"text-align: right;\">\n",
       "      <th></th>\n",
       "      <th>title</th>\n",
       "      <th>price</th>\n",
       "      <th>link_item</th>\n",
       "      <th>index</th>\n",
       "      <th>discount</th>\n",
       "      <th>sales</th>\n",
       "      <th>category</th>\n",
       "    </tr>\n",
       "  </thead>\n",
       "  <tbody>\n",
       "  </tbody>\n",
       "</table>\n",
       "</div>"
      ],
      "text/plain": [
       "Empty DataFrame\n",
       "Columns: [title, price, link_item, index, discount, sales, category]\n",
       "Index: []"
      ]
     },
     "execution_count": 4,
     "metadata": {},
     "output_type": "execute_result"
    }
   ],
   "source": [
    "df_all"
   ]
  },
  {
   "cell_type": "markdown",
   "id": "8813d52b",
   "metadata": {},
   "source": [
    "1. Xử lý dữ liệu"
   ]
  },
  {
   "cell_type": "code",
   "execution_count": 5,
   "id": "ce80d0fc",
   "metadata": {},
   "outputs": [],
   "source": [
    "df_all = df_all.drop('index', axis=1)\n"
   ]
  },
  {
   "cell_type": "code",
   "execution_count": 6,
   "id": "af737477",
   "metadata": {},
   "outputs": [],
   "source": [
    "df_all.dropna(subset=['sales'], inplace=True)\n"
   ]
  },
  {
   "cell_type": "code",
   "execution_count": 7,
   "id": "535e29f9",
   "metadata": {},
   "outputs": [],
   "source": [
    "df_all = df_all.reset_index(drop=True)"
   ]
  },
  {
   "cell_type": "code",
   "execution_count": 8,
   "id": "b04bad89",
   "metadata": {},
   "outputs": [
    {
     "data": {
      "text/html": [
       "<div>\n",
       "<style scoped>\n",
       "    .dataframe tbody tr th:only-of-type {\n",
       "        vertical-align: middle;\n",
       "    }\n",
       "\n",
       "    .dataframe tbody tr th {\n",
       "        vertical-align: top;\n",
       "    }\n",
       "\n",
       "    .dataframe thead th {\n",
       "        text-align: right;\n",
       "    }\n",
       "</style>\n",
       "<table border=\"1\" class=\"dataframe\">\n",
       "  <thead>\n",
       "    <tr style=\"text-align: right;\">\n",
       "      <th></th>\n",
       "      <th>title</th>\n",
       "      <th>price</th>\n",
       "      <th>link_item</th>\n",
       "      <th>discount</th>\n",
       "      <th>sales</th>\n",
       "      <th>category</th>\n",
       "    </tr>\n",
       "  </thead>\n",
       "  <tbody>\n",
       "  </tbody>\n",
       "</table>\n",
       "</div>"
      ],
      "text/plain": [
       "Empty DataFrame\n",
       "Columns: [title, price, link_item, discount, sales, category]\n",
       "Index: []"
      ]
     },
     "execution_count": 8,
     "metadata": {},
     "output_type": "execute_result"
    }
   ],
   "source": [
    "df_all"
   ]
  },
  {
   "cell_type": "code",
   "execution_count": 9,
   "id": "47e48b45",
   "metadata": {},
   "outputs": [
    {
     "name": "stdout",
     "output_type": "stream",
     "text": [
      "Series([], Name: price, dtype: int32)\n"
     ]
    }
   ],
   "source": [
    "df_all[\"price\"] = df_all[\"price\"].replace('[\\₫,]', '', regex=True).replace('\\.', '', regex=True).astype(int)\n",
    "print(df_all[\"price\"])"
   ]
  },
  {
   "cell_type": "code",
   "execution_count": 10,
   "id": "0106907d",
   "metadata": {},
   "outputs": [
    {
     "data": {
      "text/plain": [
       "Series([], Name: sales, dtype: object)"
      ]
     },
     "execution_count": 10,
     "metadata": {},
     "output_type": "execute_result"
    }
   ],
   "source": [
    "def convert_to_number(value):\n",
    "    if isinstance(value, str):\n",
    "        if 'k+' in value:\n",
    "            return float(value.replace('k+', '')) * 1000\n",
    "        elif 'k' in value:\n",
    "            return float(value.replace('k', '')) * 1000\n",
    "        else:\n",
    "            return float(value) if value else None\n",
    "    else:\n",
    "        return value\n",
    "\n",
    "# Áp dụng hàm convert_to_number cho cột 'Gia'\n",
    "df_all[\"sales\"] = df_all[\"sales\"].apply(lambda x: np.nan if pd.isna(x) else x.split('Đã bán')[1].strip())\n",
    "df_all[\"sales\"] = df_all[\"sales\"].apply(convert_to_number)\n",
    "df_all[\"sales\"]\n"
   ]
  },
  {
   "cell_type": "code",
   "execution_count": 11,
   "id": "b37df319",
   "metadata": {},
   "outputs": [
    {
     "data": {
      "text/plain": [
       "Series([], Name: revenue, dtype: object)"
      ]
     },
     "execution_count": 11,
     "metadata": {},
     "output_type": "execute_result"
    }
   ],
   "source": [
    "df_all[\"revenue\"] = df_all[\"price\"] * df_all[\"sales\"]\n",
    "df_all[\"revenue\"]"
   ]
  },
  {
   "cell_type": "code",
   "execution_count": 12,
   "id": "24d45ee3",
   "metadata": {},
   "outputs": [],
   "source": [
    "total = df_all[\"revenue\"].sum()"
   ]
  },
  {
   "cell_type": "code",
   "execution_count": 13,
   "id": "01d9dd04",
   "metadata": {},
   "outputs": [
    {
     "name": "stdout",
     "output_type": "stream",
     "text": [
      "Tổng doanh số chuanbimangthai:  0\n",
      "So mat hang da ban:  0\n",
      "So san pham da ban:  0\n"
     ]
    }
   ],
   "source": [
    "print(\"Tổng doanh số chuanbimangthai: \", total)\n",
    "print(\"So mat hang da ban: \", len(df_all[\"title\"])) # san pham da ban\n",
    "print(\"So san pham da ban: \", df_all[\"sales\"].sum()) # san pham co luot ban\n",
    "\n"
   ]
  },
  {
   "cell_type": "code",
   "execution_count": 14,
   "id": "1317ab3f",
   "metadata": {},
   "outputs": [
    {
     "data": {
      "text/html": [
       "<div>\n",
       "<style scoped>\n",
       "    .dataframe tbody tr th:only-of-type {\n",
       "        vertical-align: middle;\n",
       "    }\n",
       "\n",
       "    .dataframe tbody tr th {\n",
       "        vertical-align: top;\n",
       "    }\n",
       "\n",
       "    .dataframe thead th {\n",
       "        text-align: right;\n",
       "    }\n",
       "</style>\n",
       "<table border=\"1\" class=\"dataframe\">\n",
       "  <thead>\n",
       "    <tr style=\"text-align: right;\">\n",
       "      <th></th>\n",
       "      <th>title</th>\n",
       "      <th>price</th>\n",
       "      <th>link_item</th>\n",
       "      <th>discount</th>\n",
       "      <th>sales</th>\n",
       "      <th>category</th>\n",
       "      <th>revenue</th>\n",
       "    </tr>\n",
       "  </thead>\n",
       "  <tbody>\n",
       "  </tbody>\n",
       "</table>\n",
       "</div>"
      ],
      "text/plain": [
       "Empty DataFrame\n",
       "Columns: [title, price, link_item, discount, sales, category, revenue]\n",
       "Index: []"
      ]
     },
     "execution_count": 14,
     "metadata": {},
     "output_type": "execute_result"
    }
   ],
   "source": [
    "df_all"
   ]
  },
  {
   "cell_type": "code",
   "execution_count": 15,
   "id": "9eb4f56b",
   "metadata": {},
   "outputs": [],
   "source": [
    "df_all.to_csv(\"tk_chuanbimangthai_all_ed.csv\")"
   ]
  }
 ],
 "metadata": {
  "kernelspec": {
   "display_name": "Python 3 (ipykernel)",
   "language": "python",
   "name": "python3"
  },
  "language_info": {
   "codemirror_mode": {
    "name": "ipython",
    "version": 3
   },
   "file_extension": ".py",
   "mimetype": "text/x-python",
   "name": "python",
   "nbconvert_exporter": "python",
   "pygments_lexer": "ipython3",
   "version": "3.9.13"
  }
 },
 "nbformat": 4,
 "nbformat_minor": 5
}
